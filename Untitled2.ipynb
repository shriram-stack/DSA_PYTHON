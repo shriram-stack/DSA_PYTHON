{
  "nbformat": 4,
  "nbformat_minor": 0,
  "metadata": {
    "colab": {
      "provenance": [],
      "authorship_tag": "ABX9TyO+vcFoRfjDbCKO4lFak270",
      "include_colab_link": true
    },
    "kernelspec": {
      "name": "python3",
      "display_name": "Python 3"
    },
    "language_info": {
      "name": "python"
    }
  },
  "cells": [
    {
      "cell_type": "markdown",
      "metadata": {
        "id": "view-in-github",
        "colab_type": "text"
      },
      "source": [
        "<a href=\"https://colab.research.google.com/github/shriram-stack/DSA_PYTHON/blob/main/Untitled2.ipynb\" target=\"_parent\"><img src=\"https://colab.research.google.com/assets/colab-badge.svg\" alt=\"Open In Colab\"/></a>"
      ]
    },
    {
      "cell_type": "markdown",
      "source": [
        "Static Arrays, Dynamic Arrays, and Strings - Big O Complexi"
      ],
      "metadata": {
        "id": "QD91_R4EY2I-"
      }
    },
    {
      "cell_type": "code",
      "execution_count": 12,
      "metadata": {
        "colab": {
          "base_uri": "https://localhost:8080/"
        },
        "id": "1YSQGJJyVgXT",
        "outputId": "930b7268-5b45-4c52-d737-56439106d167"
      },
      "outputs": [
        {
          "output_type": "stream",
          "name": "stdout",
          "text": [
            "[1, 2, 3, 4, 5]\n"
          ]
        }
      ],
      "source": [
        "A = [1,2,3,4,5]\n",
        "print(A)"
      ]
    },
    {
      "cell_type": "code",
      "source": [
        "#append - insert element at end of the array - on average 0(1)\n",
        "A.append(6)\n",
        "print(A)\n"
      ],
      "metadata": {
        "colab": {
          "base_uri": "https://localhost:8080/"
        },
        "id": "QME3WvgKVq5T",
        "outputId": "f35c501b-ef41-47b6-b7fc-816f7bd76860"
      },
      "execution_count": 13,
      "outputs": [
        {
          "output_type": "stream",
          "name": "stdout",
          "text": [
            "[1, 2, 3, 4, 5, 6]\n"
          ]
        }
      ]
    },
    {
      "cell_type": "code",
      "source": [
        "#pop - deleting element at end of the array - 0(1)\n",
        "A.pop()\n",
        "print(A)"
      ],
      "metadata": {
        "colab": {
          "base_uri": "https://localhost:8080/"
        },
        "id": "CKOooAwFV3c0",
        "outputId": "cf1ec4af-6777-46a2-8a0a-d098b1286134"
      },
      "execution_count": 16,
      "outputs": [
        {
          "output_type": "stream",
          "name": "stdout",
          "text": [
            "[1, 2, 3, 4, 5]\n"
          ]
        }
      ]
    },
    {
      "cell_type": "code",
      "source": [
        "#insert (not at end of the array ) - 0(n)\n",
        "A.insert(3,9)\n",
        "print(A)"
      ],
      "metadata": {
        "colab": {
          "base_uri": "https://localhost:8080/"
        },
        "id": "0HtnnjBZWGGC",
        "outputId": "adad6d90-ed71-4c6a-cb64-05137b0e1778"
      },
      "execution_count": 18,
      "outputs": [
        {
          "output_type": "stream",
          "name": "stdout",
          "text": [
            "[1, 2, 3, 9, 9, 4, 5]\n"
          ]
        }
      ]
    },
    {
      "cell_type": "code",
      "source": [
        "#modify the element in the array\n",
        "A[0] = 7\n",
        "print(A)"
      ],
      "metadata": {
        "colab": {
          "base_uri": "https://localhost:8080/"
        },
        "id": "i3fO_x2ZWwUU",
        "outputId": "92ec0a3f-e2bf-448b-a056-ba814a991417"
      },
      "execution_count": 19,
      "outputs": [
        {
          "output_type": "stream",
          "name": "stdout",
          "text": [
            "[7, 2, 3, 9, 9, 4, 5]\n"
          ]
        }
      ]
    },
    {
      "cell_type": "code",
      "source": [
        "#Acessing the element given index 1 - 0(1)\n",
        "print(A[5])\n"
      ],
      "metadata": {
        "colab": {
          "base_uri": "https://localhost:8080/"
        },
        "id": "erKupptMW9UV",
        "outputId": "66e47767-338e-4edf-b9fa-0c7338a6d60c"
      },
      "execution_count": 20,
      "outputs": [
        {
          "output_type": "stream",
          "name": "stdout",
          "text": [
            "4\n"
          ]
        }
      ]
    },
    {
      "cell_type": "code",
      "source": [
        "#checking if array has an element - 0(n)\n",
        "if 7 in A:\n",
        "  print(True)"
      ],
      "metadata": {
        "colab": {
          "base_uri": "https://localhost:8080/"
        },
        "id": "4HCfhf7LXOVX",
        "outputId": "946947ae-0d63-4262-d496-23f8006a6a51"
      },
      "execution_count": 24,
      "outputs": [
        {
          "output_type": "stream",
          "name": "stdout",
          "text": [
            "True\n"
          ]
        }
      ]
    },
    {
      "cell_type": "code",
      "source": [
        "#checking length - 0(1)\n",
        "print(len(A))"
      ],
      "metadata": {
        "colab": {
          "base_uri": "https://localhost:8080/"
        },
        "id": "hoE9RnmLYagq",
        "outputId": "60c3ec62-c42a-4254-e4a0-1476596e07a7"
      },
      "execution_count": 27,
      "outputs": [
        {
          "output_type": "stream",
          "name": "stdout",
          "text": [
            "7\n"
          ]
        }
      ]
    },
    {
      "cell_type": "code",
      "source": [
        "#Strings"
      ],
      "metadata": {
        "id": "obGX4viqXbqg"
      },
      "execution_count": null,
      "outputs": []
    },
    {
      "cell_type": "code",
      "source": [
        "#Append to end of string - 0(n)\n",
        "s = 'hello'\n",
        "b = s + 'z'\n",
        "print(b)\n"
      ],
      "metadata": {
        "colab": {
          "base_uri": "https://localhost:8080/"
        },
        "id": "TxaEO9PTX1bj",
        "outputId": "2fba554d-7869-45d4-942d-3362c2ef2759"
      },
      "execution_count": 25,
      "outputs": [
        {
          "output_type": "stream",
          "name": "stdout",
          "text": [
            "helloz\n"
          ]
        }
      ]
    },
    {
      "cell_type": "code",
      "source": [
        "#Acess positions  - 0(1)\n",
        "print(s[2])"
      ],
      "metadata": {
        "colab": {
          "base_uri": "https://localhost:8080/"
        },
        "id": "GJEJLw6fYND-",
        "outputId": "e73ed8cc-9460-4390-c7e9-352171669c28"
      },
      "execution_count": 26,
      "outputs": [
        {
          "output_type": "stream",
          "name": "stdout",
          "text": [
            "l\n"
          ]
        }
      ]
    },
    {
      "cell_type": "markdown",
      "source": [],
      "metadata": {
        "id": "QrHtu1R8Yuk7"
      }
    },
    {
      "cell_type": "markdown",
      "source": [],
      "metadata": {
        "id": "kDQ_N5PtYtNS"
      }
    },
    {
      "cell_type": "code",
      "source": [
        "#length of string - 0(1)\n",
        "print(len(s))"
      ],
      "metadata": {
        "id": "lJzLCbs5Yl4V"
      },
      "execution_count": null,
      "outputs": []
    },
    {
      "cell_type": "code",
      "source": [],
      "metadata": {
        "id": "K9Hwb2s2ZCNI"
      },
      "execution_count": null,
      "outputs": []
    },
    {
      "cell_type": "markdown",
      "source": [],
      "metadata": {
        "id": "1O27ENPBZLnO"
      }
    }
  ]
}