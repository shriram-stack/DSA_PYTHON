{
  "nbformat": 4,
  "nbformat_minor": 0,
  "metadata": {
    "colab": {
      "provenance": [],
      "authorship_tag": "ABX9TyNuhWGvJMi4GPxi7IaSifSN",
      "include_colab_link": true
    },
    "kernelspec": {
      "name": "python3",
      "display_name": "Python 3"
    },
    "language_info": {
      "name": "python"
    }
  },
  "cells": [
    {
      "cell_type": "markdown",
      "metadata": {
        "id": "view-in-github",
        "colab_type": "text"
      },
      "source": [
        "<a href=\"https://colab.research.google.com/github/shriram-stack/DSA_PYTHON/blob/main/Sorting.ipynb\" target=\"_parent\"><img src=\"https://colab.research.google.com/assets/colab-badge.svg\" alt=\"Open In Colab\"/></a>"
      ]
    },
    {
      "cell_type": "code",
      "execution_count": null,
      "metadata": {
        "id": "Ic6EQ79rbswW"
      },
      "outputs": [],
      "source": []
    },
    {
      "cell_type": "markdown",
      "source": [
        "Sorting Algorithms in Python\n",
        "Sorting is a fundamental operation in programming. Different sorting algorithms have varying efficiencies depending on the data structure and use case. Below are the most important sorting algorithms:\n",
        "\n"
      ],
      "metadata": {
        "id": "Pfpb62YDbtNh"
      }
    },
    {
      "cell_type": "markdown",
      "source": [
        "**1. Bubble Sor**t (O(n²))\n",
        "🔹 Simple but inefficient for large lists\n",
        "🔹 Repeatedly swaps adjacent elements if they are in the wrong order\n",
        "\n",
        "Algorithm Steps\n",
        "Compare adjacent elements and swap if needed.\n",
        "Continue until the list is sorted."
      ],
      "metadata": {
        "id": "42nwy4zebv1h"
      }
    },
    {
      "cell_type": "code",
      "source": [
        "def bubble_sort(arr):\n",
        "    n = len(arr)\n",
        "    for i in range(n - 1):\n",
        "        for j in range(n - i - 1):\n",
        "            if arr[j] > arr[j + 1]:  # Swap if needed\n",
        "                arr[j], arr[j + 1] = arr[j + 1], arr[j]\n",
        "    return arr\n",
        "\n",
        "# Example usage\n",
        "arr = [64, 34, 25, 12, 22, 11, 90]\n",
        "print(\"Sorted array:\", bubble_sort(arr))\n"
      ],
      "metadata": {
        "id": "sLEQ9i79bxjy"
      },
      "execution_count": null,
      "outputs": []
    },
    {
      "cell_type": "markdown",
      "source": [
        "Best For: Small datasets or when data is almost sorted."
      ],
      "metadata": {
        "id": "AdJaAuNxb2Di"
      }
    },
    {
      "cell_type": "markdown",
      "source": [
        "*** 2 Selection Sort ***(O(n²))\n",
        "🔹 Finds the smallest element and places it in order\n",
        "🔹 Faster than Bubble Sort (fewer swaps)"
      ],
      "metadata": {
        "id": "-XQ9B8usb80V"
      }
    },
    {
      "cell_type": "markdown",
      "source": [
        "Algorithm Steps\n",
        "Find the smallest element in the list.\n",
        "Swap it with the first element.\n",
        "Repeat for the rest of the list."
      ],
      "metadata": {
        "id": "K16n6cohcBSZ"
      }
    },
    {
      "cell_type": "code",
      "source": [
        "def selection_sort(arr):\n",
        "    n = len(arr)\n",
        "    for i in range(n):\n",
        "        min_idx = i\n",
        "        for j in range(i + 1, n):\n",
        "            if arr[j] < arr[min_idx]:\n",
        "                min_idx = j\n",
        "        arr[i], arr[min_idx] = arr[min_idx], arr[i]\n",
        "    return arr\n",
        "\n",
        "# Example usage\n",
        "arr = [64, 25, 12, 22, 11]\n",
        "print(\"Sorted array:\", selection_sort(arr))\n"
      ],
      "metadata": {
        "id": "sSMaYgcWcDdh"
      },
      "execution_count": null,
      "outputs": []
    },
    {
      "cell_type": "markdown",
      "source": [
        "**3 Insertion Sort** (O(n²))\n",
        "🔹 Efficient for small or nearly sorted data\n",
        "🔹 Inserts elements into the correct position like sorting playing cards"
      ],
      "metadata": {
        "id": "NUIh_d1OcFsp"
      }
    },
    {
      "cell_type": "markdown",
      "source": [
        "Algorithm Steps\n",
        "Pick an element and compare it with previous elements.\n",
        "Insert it in the correct position."
      ],
      "metadata": {
        "id": "4koYMgOvcH70"
      }
    },
    {
      "cell_type": "code",
      "source": [
        "def insertion_sort(arr):\n",
        "    for i in range(1, len(arr)):\n",
        "        key = arr[i]\n",
        "        j = i - 1\n",
        "        while j >= 0 and arr[j] > key:\n",
        "            arr[j + 1] = arr[j]\n",
        "            j -= 1\n",
        "        arr[j + 1] = key\n",
        "    return arr\n",
        "\n",
        "# Example usage\n",
        "arr = [12, 11, 13, 5, 6]\n",
        "print(\"Sorted array:\", insertion_sort(arr))\n"
      ],
      "metadata": {
        "id": "12Fstki_cJe5"
      },
      "execution_count": null,
      "outputs": []
    },
    {
      "cell_type": "markdown",
      "source": [
        "Best For: Small datasets or nearly sorted lists."
      ],
      "metadata": {
        "id": "rsZaNj3PcLt2"
      }
    },
    {
      "cell_type": "markdown",
      "source": [
        "**4. Merge Sort** (O(n log n))\n",
        "🔹 Divide and Conquer algorithm\n",
        "🔹 Stable sorting (preserves order of equal elements)\n",
        "🔹 Efficient for large datasets"
      ],
      "metadata": {
        "id": "lYBOTyPIcOgu"
      }
    },
    {
      "cell_type": "markdown",
      "source": [
        "Algorithm Steps\n",
        "Divide the array into halves.\n",
        "Sort each half recursively.\n",
        "Merge the sorted halves."
      ],
      "metadata": {
        "id": "Igf1GKovcQSo"
      }
    },
    {
      "cell_type": "code",
      "source": [
        "def merge_sort(arr):\n",
        "    if len(arr) > 1:\n",
        "        mid = len(arr) // 2\n",
        "        left_half = arr[:mid]\n",
        "        right_half = arr[mid:]\n",
        "\n",
        "        merge_sort(left_half)\n",
        "        merge_sort(right_half)\n",
        "\n",
        "        i = j = k = 0\n",
        "        while i < len(left_half) and j < len(right_half):\n",
        "            if left_half[i] < right_half[j]:\n",
        "                arr[k] = left_half[i]\n",
        "                i += 1\n",
        "            else:\n",
        "                arr[k] = right_half[j]\n",
        "                j += 1\n",
        "            k += 1\n",
        "\n",
        "        while i < len(left_half):\n",
        "            arr[k] = left_half[i]\n",
        "            i += 1\n",
        "            k += 1\n",
        "\n",
        "        while j < len(right_half):\n",
        "            arr[k] = right_half[j]\n",
        "            j += 1\n",
        "            k += 1\n",
        "\n",
        "    return arr\n",
        "\n",
        "# Example usage\n",
        "arr = [38, 27, 43, 3, 9, 82, 10]\n",
        "print(\"Sorted array:\", merge_sort(arr))\n"
      ],
      "metadata": {
        "id": "wuPAVvFgcR2M"
      },
      "execution_count": null,
      "outputs": []
    },
    {
      "cell_type": "markdown",
      "source": [
        "Best For: Large datasets where stability is required."
      ],
      "metadata": {
        "id": "khApxf7ocUcC"
      }
    },
    {
      "cell_type": "markdown",
      "source": [
        "**5. Quick Sort** (O(n log n))\n",
        "🔹 Faster than Merge Sort for most cases\n",
        "🔹 Uses a \"pivot\" to divide and conquer\n",
        "\n",
        "Algorithm Steps\n",
        "Pick a pivot element.\n",
        "Partition the list into smaller and greater elements.\n",
        "Recursively apply quick sort to both partitions."
      ],
      "metadata": {
        "id": "pIwqvLHicWV2"
      }
    },
    {
      "cell_type": "code",
      "source": [
        "def quick_sort(arr):\n",
        "    if len(arr) <= 1:\n",
        "        return arr\n",
        "    pivot = arr[len(arr) // 2]  # Choose middle element as pivot\n",
        "    left = [x for x in arr if x < pivot]\n",
        "    middle = [x for x in arr if x == pivot]\n",
        "    right = [x for x in arr if x > pivot]\n",
        "    return quick_sort(left) + middle + quick_sort(right)\n",
        "\n",
        "# Example usage\n",
        "arr = [10, 7, 8, 9, 1, 5]\n",
        "print(\"Sorted array:\", quick_sort(arr))\n"
      ],
      "metadata": {
        "id": "QbxP5r9hcYAo"
      },
      "execution_count": null,
      "outputs": []
    },
    {
      "cell_type": "markdown",
      "source": [
        "** 6 Heap Sort** (O(n log n))\n",
        "🔹 Uses a heap (binary tree structure)\n",
        "🔹 Efficient but not stable"
      ],
      "metadata": {
        "id": "5PWhe64Vcaci"
      }
    },
    {
      "cell_type": "code",
      "source": [
        "import heapq\n",
        "\n",
        "def heap_sort(arr):\n",
        "    heapq.heapify(arr)  # Convert list into a heap\n",
        "    return [heapq.heappop(arr) for _ in range(len(arr))]\n",
        "\n",
        "# Example usage\n",
        "arr = [4, 10, 3, 5, 1]\n",
        "print(\"Sorted array:\", heap_sort(arr))\n"
      ],
      "metadata": {
        "id": "P8ZKqrOfccM4"
      },
      "execution_count": null,
      "outputs": []
    },
    {
      "cell_type": "markdown",
      "source": [
        "**7. Counting Sort** (O(n))\n",
        "🔹 Only works for positive integers\n",
        "🔹 Counts occurrences of each number"
      ],
      "metadata": {
        "id": "si8usTv5cefW"
      }
    },
    {
      "cell_type": "code",
      "source": [
        "def counting_sort(arr):\n",
        "    max_val = max(arr)\n",
        "    count = [0] * (max_val + 1)\n",
        "\n",
        "    for num in arr:\n",
        "        count[num] += 1\n",
        "\n",
        "    sorted_arr = []\n",
        "    for i, freq in enumerate(count):\n",
        "        sorted_arr.extend([i] * freq)\n",
        "\n",
        "    return sorted_arr\n",
        "\n",
        "# Example usage\n",
        "arr = [4, 2, 2, 8, 3, 3, 1]\n",
        "print(\"Sorted array:\", counting_sort(arr))\n"
      ],
      "metadata": {
        "id": "drKRJ9sVcgnI"
      },
      "execution_count": null,
      "outputs": []
    }
  ]
}